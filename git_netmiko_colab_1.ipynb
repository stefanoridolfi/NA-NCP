{
  "nbformat": 4,
  "nbformat_minor": 0,
  "metadata": {
    "colab": {
      "name": "git-netmiko_1",
      "provenance": [],
      "authorship_tag": "ABX9TyNmxdwhy0Oi7PPqGZrNRCze",
      "include_colab_link": true
    },
    "kernelspec": {
      "name": "python3",
      "display_name": "Python 3"
    },
    "language_info": {
      "name": "python"
    }
  },
  "cells": [
    {
      "cell_type": "markdown",
      "metadata": {
        "id": "view-in-github",
        "colab_type": "text"
      },
      "source": [
        "<a href=\"https://colab.research.google.com/github/stefanoridolfi/NA-NCP/blob/main/git_netmiko_1.ipynb\" target=\"_parent\"><img src=\"https://colab.research.google.com/assets/colab-badge.svg\" alt=\"Open In Colab\"/></a>"
      ]
    },
    {
      "cell_type": "code",
      "execution_count": null,
      "metadata": {
        "id": "779CvvPmA-IR"
      },
      "outputs": [],
      "source": [
        "#!pip install netmiko\n",
        "import os\n",
        "from getpass import getpass\n",
        "from netmiko import ConnectHandler\n",
        "\n",
        "device1 = {\n",
        "    \"host\": \"1.1.1.1\",\n",
        "    \"username\": \"cisco\",\n",
        "    \"password\":\"cisco\",\n",
        "    \"device_type\": \"cisco_xe\",\n",
        "}\n",
        "\n",
        "cmd_show_ip_route = \"show ip route\"\n",
        "try:\n",
        "        net_connect = ConnectHandler(**device1)\n",
        "        prompt=net_connect.find_prompt()\n",
        "        print(\"prompt:\\n\",prompt)\n",
        "        output_show_ip_route = net_connect.send_command(cmd_show_ip_route)\n",
        "        #print(\"type(output_show_ip_route)\",type(output_show_ip_route))\n",
        "        print(\" IP route:\\n\",output_show_ip_route)\n",
        "        list_output_show_ip_route=output_show_ip_route.splitlines()\n",
        "        print(\"IP route splitted by lines\\n\")\n",
        "        for line in list_output_show_ip_route:\n",
        "          print(\"line:   \",line)\n",
        "        net_connect.disconnect()\n",
        "except Exception as err:\n",
        "    exception_type = type(err).__name__\n",
        "    print(exception_type)\n"
      ]
    }
  ]
}
