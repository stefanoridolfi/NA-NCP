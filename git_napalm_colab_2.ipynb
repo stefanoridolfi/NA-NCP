{
  "nbformat": 4,
  "nbformat_minor": 0,
  "metadata": {
    "colab": {
      "name": "git-napalm_colab_2.ipynb",
      "provenance": [],
      "authorship_tag": "ABX9TyMVBQ4m4bpJieKA4WfQexZ/",
      "include_colab_link": true
    },
    "kernelspec": {
      "name": "python3",
      "display_name": "Python 3"
    },
    "language_info": {
      "name": "python"
    }
  },
  "cells": [
    {
      "cell_type": "markdown",
      "metadata": {
        "id": "view-in-github",
        "colab_type": "text"
      },
      "source": [
        "<a href=\"https://colab.research.google.com/github/stefanoridolfi/NA-NCP/blob/main/git_napalm_colab_2.ipynb\" target=\"_parent\"><img src=\"https://colab.research.google.com/assets/colab-badge.svg\" alt=\"Open In Colab\"/></a>"
      ]
    },
    {
      "cell_type": "code",
      "execution_count": null,
      "metadata": {
        "id": "XeTHYh9duykQ"
      },
      "outputs": [],
      "source": [
        "#! pip install napalm \n",
        " #! pip install lxml==\"4.2.6\"\n",
        "# 1) si intalla napalm\n",
        "# 2) si commenta l'installazione di napalm e si uncommenta l'installazione di lxml\n",
        "# 3) si restarta il runtime come richiesto\n",
        "# 4) si commentano entrambe le installazioni : lo script funziona\n",
        "import sys\n",
        "import time\n",
        "import napalm\n",
        "import os\n",
        "import json\n",
        "import pytz\n",
        "from datetime import datetime\n",
        "\n",
        "def dowload_file_git(file_name):\n",
        "  url = f\"https://raw.githubusercontent.com/stefanoridolfi/NA-NCP/main/{file_name}\"\n",
        "  !wget --no-cache --backups=1 {url}\n",
        "  !ls \n",
        "\n",
        "file_name=\"cisco_conf1.cfg\"\n",
        "dowload_file_git(file_name)\n",
        "dev_type = 'ios'\n",
        "dev_creds={\n",
        "  'hostname': '1.1.1.1',\n",
        "  'username': 'cisco',\n",
        "  'password': 'cisco',\n",
        "  'optional_args': {'secret': 'cisco',\"inline_transfer\": True,'global_delay_factor': 2}\n",
        " }\n",
        "\n",
        "driver = napalm.get_network_driver(dev_type)\n",
        "conn = driver(**dev_creds)\n",
        "conn.open()\n",
        "#output=conn.get_config()['running']\n",
        "#print(\"RUNNING\\n\",output)\n",
        "\n",
        "conn.load_replace_candidate(filename=file_name)\n",
        "#print(\"compare\\n\",conn.compare_config())\n",
        "conn.commit_config()\n",
        "output=conn.get_config()\n",
        "print(\"RUNNING\\n\",output)\n",
        "conn.close()\n"
      ]
    }
  ]
}