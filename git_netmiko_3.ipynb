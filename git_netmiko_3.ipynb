{
  "nbformat": 4,
  "nbformat_minor": 0,
  "metadata": {
    "colab": {
      "name": "git-netmiko_3",
      "provenance": [],
      "authorship_tag": "ABX9TyPBUI7T0QVKycDywly/ByhO",
      "include_colab_link": true
    },
    "kernelspec": {
      "name": "python3",
      "display_name": "Python 3"
    },
    "language_info": {
      "name": "python"
    }
  },
  "cells": [
    {
      "cell_type": "markdown",
      "metadata": {
        "id": "view-in-github",
        "colab_type": "text"
      },
      "source": [
        "<a href=\"https://colab.research.google.com/github/stefanoridolfi/NA-NCP/blob/main/git_netmiko_3.ipynb\" target=\"_parent\"><img src=\"https://colab.research.google.com/assets/colab-badge.svg\" alt=\"Open In Colab\"/></a>"
      ]
    },
    {
      "cell_type": "code",
      "execution_count": null,
      "metadata": {
        "id": "779CvvPmA-IR"
      },
      "outputs": [],
      "source": [
        "#!pip install netmiko\n",
        "import os\n",
        "from netmiko import ConnectHandler\n",
        "\n",
        "device1 = {\n",
        "    \"host\": \"1.1.1.1\",\n",
        "    \"username\": \"cisco\",\n",
        "    \"password\":\"cisco\",\n",
        "    \"secret\":\"cisco\",\n",
        "    \"device_type\": \"cisco_xe\",\n",
        "    'verbose': True,\n",
        "}\n",
        "cmd_show_running=\"show running\"\n",
        "cmd_show_ip_route = \"show ip route\"\n",
        "try:\n",
        "        net_connect = ConnectHandler(**device1)\n",
        "        prompt=net_connect.find_prompt()\n",
        "        print(\"prompt:\\n\",prompt)\n",
        "\n",
        "        print(\"Entering enable\")\n",
        "        net_connect.enable()\n",
        "        print(net_connect.find_prompt())\n",
        "\n",
        "        print(\"\\nEnter Config Mode, Current Prompt: \")\n",
        "        net_connect.config_mode()\n",
        "        print(net_connect.find_prompt())\n",
        "\n",
        "        print(\"\\nExit Config Mode, Current Prompt: \")\n",
        "        net_connect.exit_config_mode()\n",
        "        print(net_connect.find_prompt())\n",
        "        \n",
        "        print(\"\\nshow running command\")\n",
        "        output_show_running = net_connect.send_command(cmd_show_running)\n",
        "        print(\"output_show_running\\n\",output_show_running)\n",
        "        print(net_connect.find_prompt())\n",
        "#        output_show_ip_route = net_connect.send_command(cmd_show_ip_route)\n",
        "#        list_output_show_ip_route=output_show_ip_route.splitlines()\n",
        "        \n",
        "        net_connect.disconnect()\n",
        "except Exception as err:\n",
        "    exception_type = type(err).__name__\n",
        "    print(exception_type)\n"
      ]
    },
    {
      "cell_type": "code",
      "execution_count": null,
      "metadata": {
        "id": "u7xCYxMYBNSQ"
      },
      "outputs": [],
      "source": [
        ""
      ]
    },
    {
      "cell_type": "code",
      "execution_count": null,
      "metadata": {
        "id": "GQ18Kd5F3uKe"
      },
      "outputs": [],
      "source": [
        ""
      ]
    }
  ]
}