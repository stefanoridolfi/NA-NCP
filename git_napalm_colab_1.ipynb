{
  "nbformat": 4,
  "nbformat_minor": 0,
  "metadata": {
    "colab": {
      "name": "git-napalm_colab_1.ipynb",
      "provenance": [],
      "authorship_tag": "ABX9TyOJKIRxGGztzwJ1OzKS24wR",
      "include_colab_link": true
    },
    "kernelspec": {
      "name": "python3",
      "display_name": "Python 3"
    },
    "language_info": {
      "name": "python"
    }
  },
  "cells": [
    {
      "cell_type": "markdown",
      "metadata": {
        "id": "view-in-github",
        "colab_type": "text"
      },
      "source": [
        "<a href=\"https://colab.research.google.com/github/stefanoridolfi/NA-NCP/blob/main/git_napalm_colab_1.ipynb\" target=\"_parent\"><img src=\"https://colab.research.google.com/assets/colab-badge.svg\" alt=\"Open In Colab\"/></a>"
      ]
    },
    {
      "cell_type": "code",
      "execution_count": null,
      "metadata": {
        "id": "XeTHYh9duykQ"
      },
      "outputs": [],
      "source": [
        "#! pip install napalm \n",
        "#! pip install lxml==\"4.2.6\"\n",
        "# 1) si intalla napalm\n",
        "# 2) si commenta l'installazione di napalm e si uncommenta l'installazione di lxml\n",
        "# 3) si restarta il runtime come richiesto\n",
        "# 4) si commentano entrambe le installazioni : lo script funziona\n",
        "import sys\n",
        "import time\n",
        "import napalm\n",
        "import os\n",
        "import json\n",
        "import pytz\n",
        "from datetime import datetime\n",
        "\n",
        "\n",
        "tz = pytz.timezone('Europe/Rome')\n",
        "datetime_now =datetime.now(tz).strftime(\"%d/%m/%Y %H:%M:%S\")\n",
        "dev_type = 'ios'\n",
        "dev_creds={\n",
        "  'hostname': '1.1.1.1',\n",
        "  'username': 'cisco',\n",
        "  'password': 'cisco',\n",
        "  'optional_args': {'secret': 'cisco',\"inline_transfer\": True}\n",
        " }\n",
        "\n",
        "driver = napalm.get_network_driver(dev_type)\n",
        "conn = driver(**dev_creds)\n",
        "conn.open()\n",
        "\n",
        "\n",
        "#print(\"method\",dir(conn))\n",
        "#print(\"help\",help(conn))\n",
        "\n",
        "#output = conn.get_arp_table()\n",
        "#output= conn.get_interfaces()\n",
        "#print(\"interfaces\\n\",output)\n",
        "#output=conn.get_facts()\n",
        "#print(json.dumps(conn.get_facts(), indent=2))\n",
        "#output=conn.get_config()['running']\n",
        "#output=conn.get_config()\n",
        "# la configurazione sopra viene salvata su una stringa, usare .splitlines()\n",
        "#print(output)\n",
        "#output=conn.get_config(retrieve='running')\n",
        "#output=conn.ping(\"8.8.8.8\")\n",
        "#output=conn.traceroute(\"8.8.8.8\")\n",
        "#print(output)\n",
        "#print(json.dumps(output, indent=2))\n",
        "#conn.load_merge_candidate(filename=\"my_changes_remove.txt\")\n",
        "config_if='interface GigabitEthernet2.3\\n encapsulation dot1Q 3\\n ip address 10.0.0.3 255.255.255.0\\n description Giga 2.3 napalm  '+datetime_now+'\\n end\\n'\n",
        "\n",
        "conn.load_merge_candidate(config=config_if)\n",
        "print(\"compare\\n\",conn.compare_config())\n",
        "conn.commit_config()\n",
        "output= conn.get_interfaces()['GigabitEthernet2.3']\n",
        "print(\"GigabitEthernet2.3\\n\",json.dumps(output, indent=2))\n",
        "\n",
        "#output=conn.get_config()['running']\n",
        "#print(\"running\\n\",output)\n",
        "#print(\"ROLLBACK\"+\"*\"*100)\n",
        "#conn.rollback()\n",
        "#output= conn.get_interfaces()\n",
        "#output=conn.get_config()['candidate']\n",
        "#print(\"candidate\\n\",output)\n",
        "#print(\"#\"*50)\n",
        "#print(json.dumps(output, indent=2))\n",
        "output=conn.get_config()['running']\n",
        "print(\"RUNNING\\n\",output)\n",
        "commands = ['show interface']\n",
        "res = conn.cli(commands)\n",
        "print(\"command answer\\n\",json.dumps(res, indent=2))\n",
        "conn.close()\n"
      ]
    }
  ]
}