{
  "nbformat": 4,
  "nbformat_minor": 0,
  "metadata": {
    "colab": {
      "name": "napalm_colab_2.ipynb",
      "provenance": [],
      "authorship_tag": "ABX9TyNFPz9KHcheMUghUmzcSdqs",
      "include_colab_link": true
    },
    "kernelspec": {
      "name": "python3",
      "display_name": "Python 3"
    },
    "language_info": {
      "name": "python"
    }
  },
  "cells": [
    {
      "cell_type": "markdown",
      "metadata": {
        "id": "view-in-github",
        "colab_type": "text"
      },
      "source": [
        "<a href=\"https://colab.research.google.com/github/stefanoridolfi/NA-NCP/blob/main/napalm_colab_2.ipynb\" target=\"_parent\"><img src=\"https://colab.research.google.com/assets/colab-badge.svg\" alt=\"Open In Colab\"/></a>"
      ]
    },
    {
      "cell_type": "code",
      "execution_count": 3,
      "metadata": {
        "id": "XeTHYh9duykQ",
        "colab": {
          "base_uri": "https://localhost:8080/"
        },
        "outputId": "bb0ecf22-e6cd-4c98-8ad6-784869007902"
      },
      "outputs": [
        {
          "output_type": "stream",
          "name": "stdout",
          "text": [
            "--2022-05-17 09:52:09--  https://raw.githubusercontent.com/stefanoridolfi/NA-NCP/main/cisco_conf1.cfg\n",
            "Resolving raw.githubusercontent.com (raw.githubusercontent.com)... 185.199.108.133, 185.199.111.133, 185.199.110.133, ...\n",
            "Connecting to raw.githubusercontent.com (raw.githubusercontent.com)|185.199.108.133|:443... connected.\n",
            "HTTP request sent, awaiting response... 200 OK\n",
            "Length: 6641 (6.5K) [text/plain]\n",
            "Failed to rename cisco_conf1.cfg to cisco_conf1.cfg.1: (2) No such file or directory\n",
            "Saving to: ‘cisco_conf1.cfg’\n",
            "\n",
            "\rcisco_conf1.cfg       0%[                    ]       0  --.-KB/s               \rcisco_conf1.cfg     100%[===================>]   6.49K  --.-KB/s    in 0s      \n",
            "\n",
            "2022-05-17 09:52:09 (59.8 MB/s) - ‘cisco_conf1.cfg’ saved [6641/6641]\n",
            "\n",
            "cisco_conf1.cfg  cisco_conf2.cfg  cisco_conf2.cfg.1  sample_data\n",
            "RUNNING\n",
            " {'startup': 'Using 2937 out of 33554432 bytes\\n!\\n\\n!\\nversion 16.12\\nservice timestamps debug datetime msec\\nservice timestamps log datetime msec\\nservice call-home\\nplatform qfp utilization monitor load 80\\nplatform punt-keepalive disable-kernel-core\\nplatform console virtual\\n!\\nhostname CSR1000v\\n!\\nboot-start-marker\\nboot-end-marker\\n!\\n!\\nenable password cisco\\n!\\naaa new-model\\n!\\n!\\naaa authentication login default local\\naaa authorization exec default local \\n!\\n!\\n!\\n!\\n!\\naaa session-id common\\ncall-home\\n ! If contact email address in call-home is configured as sch-smart-licensing@cisco.com\\n ! the email address configured in Cisco Smart License Portal will be used as contact email address to send SCH notifications.\\n contact-email-addr sch-smart-licensing@cisco.com\\n profile \"CiscoTAC-1\"\\n  active\\n  destination transport-method http\\n  no destination transport-method email\\n!\\n!\\n!\\n!\\n!\\n!\\n!\\nip name-server 8.8.8.8 1.0.0.1\\nip domain name stefano\\n!\\n!\\n!\\nlogin on-success log\\n!\\n!\\n!\\n!\\n!\\n!\\n!\\nsubscriber templating\\n! \\n! \\n! \\n! \\n!\\n!\\nmultilink bundle-name authenticated\\n!\\n!\\n!\\n!\\n!\\n!\\n!\\n!\\n!\\n!\\n!\\n!\\n!\\n!\\n!\\ncrypto pki trustpoint SLA-TrustPoint\\n enrollment pkcs12\\n revocation-check crl\\n!\\ncrypto pki trustpoint TP-self-signed-116747262\\n enrollment selfsigned\\n subject-name cn=IOS-Self-Signed-Certificate-116747262\\n revocation-check none\\n rsakeypair TP-self-signed-116747262\\n!\\n!\\ncrypto pki certificate chain SLA-TrustPoint\\n certificate ca 01 nvram:CiscoLicensi#1CA.cer\\ncrypto pki certificate chain TP-self-signed-116747262\\n certificate self-signed 01 nvram:IOS-Self-Sig#1.cer\\n!\\ncrypto pki certificate pool\\n cabundle nvram:ios_core.p7b\\n!\\nlicense udi pid CSR1000V sn 9RU04743XQ9\\ndiagnostic bootup level minimal\\narchive\\n path flash:router-backup\\n write-memory\\n time-period 1440\\nmemory free low-watermark processor 72329\\nfile prompt quiet\\n!\\n!\\nspanning-tree extend system-id\\n!\\nusername cisco privilege 15 password 0 cisco\\n!\\nredundancy\\n!\\n!\\n!\\n!\\n!\\n!\\n! \\n!\\n!\\n!\\n!\\n!\\n!\\n!\\n!\\n!\\n!\\n!\\n!\\n! \\n! \\n!\\n!\\ninterface GigabitEthernet1\\n ip address 192.168.1.100 255.255.255.0\\n negotiation auto\\n no mop enabled\\n no mop sysid\\n!\\ninterface GigabitEthernet2\\n no ip address\\n shutdown\\n negotiation auto\\n no mop enabled\\n no mop sysid\\n!\\ninterface GigabitEthernet2.1\\n description Giga2 vlan 1 ip 10.10.10.1/24 11/05/2022 12:35:02\\n encapsulation dot1Q 1\\n ip address 10.10.10.1 255.255.255.0\\n!\\ninterface GigabitEthernet2.2\\n description \"Giga2 vlan 2 new ip 10.10.10.2/24\"\\n encapsulation dot1Q 2 native\\n ip address 10.10.10.2 255.255.255.0\\n!\\ninterface GigabitEthernet2.3\\n description Giga 2.3 napalm merge !!\\n encapsulation dot1Q 3\\n ip address 10.0.0.3 255.255.255.0\\n!\\nip forward-protocol nd\\nno ip http server\\nip http secure-server\\n!\\nip route 0.0.0.0 0.0.0.0 192.168.1.1\\nip ssh version 2\\nip scp server enable\\n!\\n!\\n!\\n!\\n!\\n!\\n!\\n!\\n!\\ncontrol-plane\\n!\\n!\\n!\\n!\\n!\\n!\\nline con 0\\n stopbits 1\\nline vty 0 4\\n transport input ssh\\n!\\nnetconf ssh\\n!\\n!\\n!\\n!\\n!\\nnetconf-yang\\nnetconf-yang feature candidate-datastore\\nend', 'running': '!\\n\\n!\\nversion 16.12\\nservice timestamps debug datetime msec\\nservice timestamps log datetime msec\\nservice call-home\\nplatform qfp utilization monitor load 80\\nplatform punt-keepalive disable-kernel-core\\nplatform console virtual\\n!\\nhostname CSR1000v\\n!\\nboot-start-marker\\nboot-end-marker\\n!\\n!\\nenable password cisco\\n!\\naaa new-model\\n!\\n!\\naaa authentication login default local\\naaa authorization exec default local \\n!\\n!\\n!\\n!\\n!\\naaa session-id common\\ncall-home\\n ! If contact email address in call-home is configured as sch-smart-licensing@cisco.com\\n ! the email address configured in Cisco Smart License Portal will be used as contact email address to send SCH notifications.\\n contact-email-addr sch-smart-licensing@cisco.com\\n profile \"CiscoTAC-1\"\\n  active\\n  destination transport-method http\\n  no destination transport-method email\\n!\\n!\\n!\\n!\\n!\\n!\\n!\\nip name-server 8.8.8.8 1.0.0.1\\nip domain name stefano\\n!\\n!\\n!\\nlogin on-success log\\n!\\n!\\n!\\n!\\n!\\n!\\n!\\nsubscriber templating\\n! \\n! \\n! \\n! \\n!\\n!\\nmultilink bundle-name authenticated\\n!\\n!\\n!\\n!\\n!\\n!\\n!\\n!\\n!\\n!\\n!\\n!\\n!\\n!\\n!\\ncrypto pki trustpoint SLA-TrustPoint\\n enrollment pkcs12\\n revocation-check crl\\n!\\ncrypto pki trustpoint TP-self-signed-116747262\\n enrollment selfsigned\\n subject-name cn=IOS-Self-Signed-Certificate-116747262\\n revocation-check none\\n rsakeypair TP-self-signed-116747262\\n!\\n!\\ncrypto pki certificate chain SLA-TrustPoint\\n certificate ca 01\\n  30820321 30820209 A0030201 02020101 300D0609 2A864886 F70D0101 0B050030 \\n  32310E30 0C060355 040A1305 43697363 6F312030 1E060355 04031317 43697363 \\n  6F204C69 63656E73 696E6720 526F6F74 20434130 1E170D31 33303533 30313934 \\n  3834375A 170D3338 30353330 31393438 34375A30 32310E30 0C060355 040A1305 \\n  43697363 6F312030 1E060355 04031317 43697363 6F204C69 63656E73 696E6720 \\n  526F6F74 20434130 82012230 0D06092A 864886F7 0D010101 05000382 010F0030 \\n  82010A02 82010100 A6BCBD96 131E05F7 145EA72C 2CD686E6 17222EA1 F1EFF64D \\n  CBB4C798 212AA147 C655D8D7 9471380D 8711441E 1AAF071A 9CAE6388 8A38E520 \\n  1C394D78 462EF239 C659F715 B98C0A59 5BBB5CBD 0CFEBEA3 700A8BF7 D8F256EE \\n  4AA4E80D DB6FD1C9 60B1FD18 FFC69C96 6FA68957 A2617DE7 104FDC5F EA2956AC \\n  7390A3EB 2B5436AD C847A2C5 DAB553EB 69A9A535 58E9F3E3 C0BD23CF 58BD7188 \\n  68E69491 20F320E7 948E71D7 AE3BCC84 F10684C7 4BC8E00F 539BA42B 42C68BB7 \\n  C7479096 B4CB2D62 EA2F505D C7B062A4 6811D95B E8250FC4 5D5D5FB8 8F27D191 \\n  C55F0D76 61F9A4CD 3D992327 A8BB03BD 4E6D7069 7CBADF8B DF5F4368 95135E44 \\n  DFC7C6CF 04DD7FD1 02030100 01A34230 40300E06 03551D0F 0101FF04 04030201 \\n  06300F06 03551D13 0101FF04 05300301 01FF301D 0603551D 0E041604 1449DC85 \\n  4B3D31E5 1B3E6A17 606AF333 3D3B4C73 E8300D06 092A8648 86F70D01 010B0500 \\n  03820101 00507F24 D3932A66 86025D9F E838AE5C 6D4DF6B0 49631C78 240DA905 \\n  604EDCDE FF4FED2B 77FC460E CD636FDB DD44681E 3A5673AB 9093D3B1 6C9E3D8B \\n  D98987BF E40CBD9E 1AECA0C2 2189BB5C 8FA85686 CD98B646 5575B146 8DFC66A8 \\n  467A3DF4 4D565700 6ADF0F0D CF835015 3C04FF7C 21E878AC 11BA9CD2 55A9232C \\n  7CA7B7E6 C1AF74F6 152E99B7 B1FCF9BB E973DE7F 5BDDEB86 C71E3B49 1765308B \\n  5FB0DA06 B92AFE7F 494E8A9E 07B85737 F3A58BE1 1A48A229 C37C1E69 39F08678 \\n  80DDCD16 D6BACECA EEBC7CF9 8428787B 35202CDC 60E4616A B623CDBD 230E3AFB \\n  418616A9 4093E049 4D10AB75 27E86F73 932E35B5 8862FDAE 0275156F 719BB2F0 \\n  D697DF7F 28\\n  \\tquit\\ncrypto pki certificate chain TP-self-signed-116747262\\n certificate self-signed 01\\n  3082032E 30820216 A0030201 02020101 300D0609 2A864886 F70D0101 05050030 \\n  30312E30 2C060355 04031325 494F532D 53656C66 2D536967 6E65642D 43657274 \\n  69666963 6174652D 31313637 34373236 32301E17 0D323230 34313431 32303130 \\n  335A170D 33303031 30313030 30303030 5A303031 2E302C06 03550403 1325494F \\n  532D5365 6C662D53 69676E65 642D4365 72746966 69636174 652D3131 36373437 \\n  32363230 82012230 0D06092A 864886F7 0D010101 05000382 010F0030 82010A02 \\n  82010100 A15BD911 CD039474 D59C779E 7DD9EF4D 74BE875C DF932154 6688B7A6 \\n  4EC1EA89 1C61D716 FD26AA11 EBE0E448 6CC0DD65 52FE157F CA87EF2D F2AB0C3B \\n  FB5CCFD0 11FF8632 2722CE81 64DB4F4F DA41C715 56007461 0BDDE5E0 0F66D93A \\n  FDDC924B F1A1CC79 BC3F7D49 25818CA0 B2A44D58 B04208F6 58DD8E6E 477534BE \\n  B3DAD8A3 DA0A14EF 8F32E13C 6953CBC7 9302254E 42031E29 D67BA72B 169CB177 \\n  B27B282F 5312CFC6 D806BA51 D57FC989 52E9BC3A D5D8D8BC AF0E96F5 40187DBE \\n  0C5F4417 D17C1E93 62C9BE24 37F77DA3 5D84425B 09F1DD0C 6709A3B7 71C99BBC \\n  EBDFD944 5983AC47 75455AAB 3D1382CE BD5E6B43 4B1E74D4 BB0FE7B6 BA2E1F42 \\n  37A2002F 02030100 01A35330 51300F06 03551D13 0101FF04 05300301 01FF301F \\n  0603551D 23041830 16801429 F4750465 E19BF475 310511AE C3DEE225 D6B9A030 \\n  1D060355 1D0E0416 041429F4 750465E1 9BF47531 0511AEC3 DEE225D6 B9A0300D \\n  06092A86 4886F70D 01010505 00038201 01008231 8FE3EA32 294A20D7 E00CF99F \\n  11E37C95 45F6B38D 32C79AAB F7E75092 9C6D22D0 0880674D 36756A67 9F3AD324 \\n  15B28718 D6DEB052 7FAA87CF 4FA2F762 E8646D00 11EF5718 F81CC4BA 5A9B65AA \\n  CFB5A0D9 0B46488D CC266185 DA212545 6B3FF113 DD791973 20C32A14 40926642 \\n  358208F2 63661169 3658A7AD 71817AC2 B8CFC8EF 02A3B459 948EB14F 97969D85 \\n  D0F85E6D 63521E92 92545D8F 5709F416 DFAAA36D E4E8362D 73FB8D49 E9F83370 \\n  7A4C577B EBBE3130 BE434E13 785540A0 400ABBE9 7810DF39 6483D366 56577C88 \\n  E8E8B376 D32BF25A 179CEB83 5D7EB59D 1CA0454F 7F2559D8 5C452276 CFCCC02D \\n  6D29ABD3 AEFA3F15 58853458 4F5D7B65 9BAF\\n  \\tquit\\n!\\ncrypto pki certificate pool\\n cabundle nvram:ios_core.p7b\\n!\\nlicense udi pid CSR1000V sn 9RU04743XQ9\\ndiagnostic bootup level minimal\\narchive\\n path flash:router-backup\\n write-memory\\n time-period 1440\\nmemory free low-watermark processor 72329\\nfile prompt quiet\\n!\\n!\\nspanning-tree extend system-id\\n!\\nusername cisco privilege 15 password 0 cisco\\n!\\nredundancy\\n!\\n!\\n!\\n!\\n!\\n!\\n! \\n!\\n!\\n!\\n!\\n!\\n!\\n!\\n!\\n!\\n!\\n!\\n!\\n! \\n! \\n!\\n!\\ninterface GigabitEthernet1\\n ip address 192.168.1.100 255.255.255.0\\n negotiation auto\\n no mop enabled\\n no mop sysid\\n!\\ninterface GigabitEthernet2\\n no ip address\\n shutdown\\n negotiation auto\\n no mop enabled\\n no mop sysid\\n!\\ninterface GigabitEthernet2.1\\n description Giga2 vlan 1 ip 10.10.10.1/24 11/05/2022 12:35:02\\n encapsulation dot1Q 1\\n ip address 10.10.10.1 255.255.255.0\\n!\\ninterface GigabitEthernet2.2\\n description \"Giga2 vlan 2 new ip 10.10.10.2/24\"\\n encapsulation dot1Q 2 native\\n ip address 10.10.10.2 255.255.255.0\\n!\\ninterface GigabitEthernet2.3\\n description Giga 2.3 napalm merge !!\\n encapsulation dot1Q 3\\n ip address 10.0.0.3 255.255.255.0\\n!\\nip forward-protocol nd\\nno ip http server\\nip http secure-server\\n!\\nip route 0.0.0.0 0.0.0.0 192.168.1.1\\nip ssh version 2\\nip scp server enable\\n!\\n!\\n!\\n!\\n!\\n!\\n!\\n!\\n!\\ncontrol-plane\\n!\\n!\\n!\\n!\\n!\\n!\\nline con 0\\n stopbits 1\\nline vty 0 4\\n transport input ssh\\n!\\nnetconf ssh\\n!\\n!\\n!\\n!\\n!\\nnetconf-yang\\nnetconf-yang feature candidate-datastore\\nend', 'candidate': ''}\n"
          ]
        }
      ],
      "source": [
        "#! pip install napalm \n",
        " #! pip install lxml==\"4.2.6\"\n",
        "# 1) si intalla napalm\n",
        "# 2) si commenta l'installazione di napalm e si uncommenta l'installazione di lxml\n",
        "# 3) si restarta il runtime come richiesto\n",
        "# 4) si commentano entrambe le installazioni : lo script funziona\n",
        "import sys\n",
        "import time\n",
        "import napalm\n",
        "import os\n",
        "import json\n",
        "import pytz\n",
        "from datetime import datetime\n",
        "\n",
        "def dowload_file_git(file_name):\n",
        "  url = f\"https://raw.githubusercontent.com/stefanoridolfi/NA-NCP/main/{file_name}\"\n",
        "  !wget --no-cache --backups=1 {url}\n",
        "  !ls \n",
        "\n",
        "file_name=\"cisco_conf1.cfg\"\n",
        "dowload_file_git(file_name)\n",
        "dev_type = 'ios'\n",
        "dev_creds={\n",
        "  'hostname': '87.3.225.196',\n",
        "  'username': 'cisco',\n",
        "  'password': 'cisco',\n",
        "  'optional_args': {'secret': 'cisco',\"inline_transfer\": True,'global_delay_factor': 2}\n",
        " }\n",
        "\n",
        "driver = napalm.get_network_driver(dev_type)\n",
        "conn = driver(**dev_creds)\n",
        "conn.open()\n",
        "#output=conn.get_config()['running']\n",
        "#print(\"RUNNING\\n\",output)\n",
        "\n",
        "conn.load_replace_candidate(filename=file_name)\n",
        "#print(\"compare\\n\",conn.compare_config())\n",
        "conn.commit_config()\n",
        "output=conn.get_config()\n",
        "print(\"RUNNING\\n\",output)\n",
        "conn.close()\n"
      ]
    }
  ]
}