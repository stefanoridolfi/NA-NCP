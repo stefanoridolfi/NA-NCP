{
  "nbformat": 4,
  "nbformat_minor": 0,
  "metadata": {
    "colab": {
      "name": "git-netmiko_2",
      "provenance": [],
      "authorship_tag": "ABX9TyNLQpHfxx+l0NVY9kpZ+TZ1",
      "include_colab_link": true
    },
    "kernelspec": {
      "name": "python3",
      "display_name": "Python 3"
    },
    "language_info": {
      "name": "python"
    }
  },
  "cells": [
    {
      "cell_type": "markdown",
      "metadata": {
        "id": "view-in-github",
        "colab_type": "text"
      },
      "source": [
        "<a href=\"https://colab.research.google.com/github/stefanoridolfi/NA-NCP/blob/main/git_netmiko_2.ipynb\" target=\"_parent\"><img src=\"https://colab.research.google.com/assets/colab-badge.svg\" alt=\"Open In Colab\"/></a>"
      ]
    },
    {
      "cell_type": "code",
      "execution_count": null,
      "metadata": {
        "id": "779CvvPmA-IR"
      },
      "outputs": [],
      "source": [
        "#!pip install netmiko\n",
        "import os\n",
        "import pytz\n",
        "from getpass import getpass\n",
        "from netmiko import ConnectHandler\n",
        "from datetime import datetime\n",
        "tz = pytz.timezone('Europe/Rome')\n",
        "datetime_now =datetime.now(tz).strftime(\"%d/%m/%Y %H:%M:%S\")\n",
        "\n",
        "\n",
        "device1 = {\n",
        "    \"host\": \"1.1.1.1\",\n",
        "    \"username\": \"cisco\",\n",
        "    \"password\":\"cisco\",\n",
        "    \"secret\":\"cisco\",\n",
        "    \"device_type\": \"cisco_xe\",\n",
        "    'verbose': True,\n",
        "}\n",
        "\n",
        "cmds = [\"interface GigabitEthernet2.1\", \"description Giga2 vlan 1 ip 10.10.10.1/24   \"+datetime_now]\n",
        "\n",
        "cmd_show_interface=\"show interface GigabitEthernet2.1 \"\n",
        "\n",
        "try:\n",
        "        net_connect = ConnectHandler(**device1)\n",
        "        output = net_connect.send_config_set(cmds)\n",
        "        print()\n",
        "        print(\"#\" * 80)\n",
        "        print(\"CFG Change: \")\n",
        "        print(output)\n",
        "        print(\"#\" * 80)\n",
        "        print()\n",
        "        net_connect.save_config()\n",
        "        prompt=net_connect.find_prompt()\n",
        "        print(\"prompt:\\n\",prompt)\n",
        "\n",
        "        print(\"\\nshow interface GigabitEthernet2.1 command\")\n",
        "        output_show_interface = net_connect.send_command(cmd_show_interface)\n",
        "        print(\"output_show_interface\\n\",output_show_interface)\n",
        "        net_connect.disconnect()\n",
        "except Exception as err:\n",
        "    exception_type = type(err).__name__\n",
        "    print(exception_type)\n"
      ]
    }
  ]
}
